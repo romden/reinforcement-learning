{
 "cells": [
  {
   "cell_type": "markdown",
   "metadata": {},
   "source": [
    "# Monte Carlo Policy Gradient"
   ]
  },
  {
   "cell_type": "markdown",
   "metadata": {},
   "source": [
    "# Reference\n",
    "\n",
    "Richard S. Sutton and Andrew G. Barto (2018). *Reinforcement Learning: An Introduction*. A Bradford Book, Cambridge, MA, USA."
   ]
  },
  {
   "cell_type": "markdown",
   "metadata": {},
   "source": [
    "## REINFORCE Algorithm\n",
    "\n",
    "<img src=\"images/reinforce.png\" width=\"800\" \height=\"800\" style=\"float: left\"/>"
   ]
  },
  {
   "cell_type": "markdown",
   "metadata": {},
   "source": [
    "### Modules and packages"
   ]
  },
  {
   "cell_type": "code",
   "execution_count": 1,
   "metadata": {},
   "outputs": [
    {
     "name": "stdout",
     "output_type": "stream",
     "text": [
      "TensorFlow 2.0.0\n"
     ]
    }
   ],
   "source": [
    "import numpy as np\n",
    "import random\n",
    "import matplotlib.pyplot as plt\n",
    "\n",
    "import tensorflow as tf\n",
    "\n",
    "import gym\n",
    "\n",
    "import warnings\n",
    "warnings.filterwarnings(\"ignore\")\n",
    "\n",
    "print(\"TensorFlow {}\".format(tf.__version__))"
   ]
  },
  {
   "cell_type": "markdown",
   "metadata": {},
   "source": [
    "### Policy Gradient Agent implements REINFORCE algorithm"
   ]
  },
  {
   "cell_type": "code",
   "execution_count": 2,
   "metadata": {},
   "outputs": [],
   "source": [
    "class PGAgent(object):\n",
    "\n",
    "    def __init__(self,  env, model, optimizer):\n",
    "\n",
    "        self.num_episodes = 1000\n",
    "        self.gamma = 0.99  # discount rate        \n",
    "\n",
    "        # environment\n",
    "        self.env = env\n",
    "        self.state_size = len(env.observation_space.low)\n",
    "        self.action_size = env.action_space.n\n",
    "\n",
    "        # model and optimizer\n",
    "        self.model = model\n",
    "        self.optimizer = optimizer\n",
    "        \n",
    "        #  memory\n",
    "        self.memory_states = []\n",
    "        self.memory_actions = []\n",
    "        self.memory_rewards = []\n",
    "\n",
    "        self.stats = {'rewards': []}\n",
    "        self.show_stats = 200  # negative - not to show; positive - show specific episode\n",
    "        self.show_episode = -1  # negative - not to show; positive - show specific episode\n",
    "\n",
    "    def execute(self):\n",
    "\n",
    "        # for each episode\n",
    "        for episode in range(1, self.num_episodes + 1):\n",
    "            # get initial state\n",
    "            state = self.env.reset()\n",
    "\n",
    "            # generate episode\n",
    "            while True:\n",
    "\n",
    "                # select action based on action probabilities\n",
    "                action = self.select_action(state)\n",
    "\n",
    "                # carry out action, observe new state and reward\n",
    "                new_state, reward, done, _ = self.env.step(action)\n",
    "\n",
    "                # one hot encoding of action\n",
    "                actions_one_hot = [0] * self.action_size\n",
    "                actions_one_hot[action] = 1\n",
    "                \n",
    "                # store states, actions and rewards in memory\n",
    "                self.memory_states.append(state)\n",
    "                self.memory_actions.append(actions_one_hot)\n",
    "                self.memory_rewards.append(reward)\n",
    "\n",
    "                # decide whether to continue episode\n",
    "                if done:\n",
    "                    break\n",
    "                else:  # update state\n",
    "                    state = new_state\n",
    "            \n",
    "            # update episode statistics\n",
    "            self.stats['rewards'].append(sum(self.memory_rewards))\n",
    "\n",
    "            # train policy, performing gradient ascent using episode data\n",
    "            self.train()\n",
    "            \n",
    "            # clear memory\n",
    "            self.memory_states = []\n",
    "            self.memory_actions = []\n",
    "            self.memory_rewards = []\n",
    "\n",
    "            # print stats on screen\n",
    "            if self.show_stats > 0 and episode % self.show_stats == 0:\n",
    "                print(\"episode: {}   reward : {}\".format(episode, self.stats['rewards'][-1]))\n",
    "\n",
    "            # show simulated environment with learned parameters\n",
    "            if self.show_episode > 0 and episode % self.show_episode == 0:\n",
    "                self.act()\n",
    "\n",
    "    def train(self):\n",
    "        \n",
    "        # get episode data        \n",
    "        states = tf.convert_to_tensor(self.memory_states, dtype=np.float32)\n",
    "        actions = tf.convert_to_tensor(self.memory_actions, dtype=np.float32)\n",
    "        returns = tf.convert_to_tensor(self.calc_returns(self.memory_rewards), dtype=np.float32)\n",
    "        \n",
    "        with tf.GradientTape() as tape:\n",
    "            # probabilities of taken actions\n",
    "            prob = self.model(states)\n",
    "            prob = tf.reduce_sum(actions * prob, axis=1)\n",
    "            # log probabilities         \n",
    "            log_prob = tf.math.log(prob)\n",
    "            # loss function \n",
    "            loss = - tf.reduce_sum(log_prob * returns)\n",
    "\n",
    "        # Get the gradients\n",
    "        variables = self.model.trainable_variables\n",
    "        gradients = tape.gradient(loss, variables)\n",
    "        \n",
    "        # Update the weights\n",
    "        self.optimizer.apply_gradients(zip(gradients, variables))\n",
    "\n",
    "    # select action based on action probabilities\n",
    "    def select_action(self, state):\n",
    "        probabilities = self.model.predict(np.array(state).reshape(1, -1)).flatten()\n",
    "        action = np.random.choice(range(self.action_size), 1, p=probabilities)\n",
    "        return action[0]\n",
    "    \n",
    "    def calc_returns(self, rewards):\n",
    "        # compute episode returns\n",
    "        returns = np.zeros_like(rewards)\n",
    "        cumulative = 0.0\n",
    "        for t in reversed(range(len(rewards))):\n",
    "            cumulative = rewards[t] + self.gamma * cumulative\n",
    "            returns[t] = cumulative\n",
    "        return returns\n",
    "\n",
    "    def act(self):\n",
    "        total_reward = 0\n",
    "        state = self.env.reset()\n",
    "        done = False\n",
    "        while not done:\n",
    "            action = self.select_action(state)\n",
    "            state, reward, done, _ = self.env.step(action)\n",
    "            total_reward += reward\n",
    "            self.env.render()\n",
    "        self.env.close()\n",
    "        return total_reward"
   ]
  },
  {
   "cell_type": "markdown",
   "metadata": {},
   "source": [
    "### Neural network parameterizes policy distribution"
   ]
  },
  {
   "cell_type": "code",
   "execution_count": 3,
   "metadata": {},
   "outputs": [],
   "source": [
    "def build_model(state_size, action_size):\n",
    "    \n",
    "    # computaion graph\n",
    "    x = tf.keras.layers.Input(shape=(state_size,))\n",
    "    h = tf.keras.layers.Dense(32, activation='relu')(x)\n",
    "    y = tf.keras.layers.Dense(action_size, activation='softmax')(h)\n",
    "\n",
    "    # model and optimizer\n",
    "    model = tf.keras.models.Model(inputs=x, outputs=y)\n",
    "    optimizer = tf.keras.optimizers.Adam(lr=0.001)\n",
    "    \n",
    "    return model, optimizer"
   ]
  },
  {
   "cell_type": "markdown",
   "metadata": {},
   "source": [
    "### Example"
   ]
  },
  {
   "cell_type": "code",
   "execution_count": 4,
   "metadata": {},
   "outputs": [
    {
     "name": "stdout",
     "output_type": "stream",
     "text": [
      "Model: \"model\"\n",
      "_________________________________________________________________\n",
      "Layer (type)                 Output Shape              Param #   \n",
      "=================================================================\n",
      "input_1 (InputLayer)         [(None, 4)]               0         \n",
      "_________________________________________________________________\n",
      "dense (Dense)                (None, 32)                160       \n",
      "_________________________________________________________________\n",
      "dense_1 (Dense)              (None, 2)                 66        \n",
      "=================================================================\n",
      "Total params: 226\n",
      "Trainable params: 226\n",
      "Non-trainable params: 0\n",
      "_________________________________________________________________\n",
      "None\n",
      "episode: 200   reward : 43.0\n",
      "episode: 400   reward : 134.0\n",
      "episode: 600   reward : 200.0\n",
      "episode: 800   reward : 200.0\n",
      "episode: 1000   reward : 200.0\n"
     ]
    },
    {
     "data": {
      "text/plain": [
       "200.0"
      ]
     },
     "execution_count": 4,
     "metadata": {},
     "output_type": "execute_result"
    }
   ],
   "source": [
    "env = gym.make(\"CartPole-v0\")\n",
    "\n",
    "state_size = len(env.observation_space.low)\n",
    "action_size = env.action_space.n\n",
    "\n",
    "model, optimizer = build_model(state_size, action_size) \n",
    "print(model.summary())\n",
    "\n",
    "agent = PGAgent(env, model, optimizer)\n",
    "agent.execute()\n",
    "agent.act()"
   ]
  },
  {
   "cell_type": "code",
   "execution_count": 5,
   "metadata": {},
   "outputs": [
    {
     "data": {
      "image/png": "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\n",
      "text/plain": [
       "<Figure size 432x288 with 1 Axes>"
      ]
     },
     "metadata": {
      "needs_background": "light"
     },
     "output_type": "display_data"
    }
   ],
   "source": [
    "plt.plot(agent.stats['rewards'])\n",
    "plt.xlabel('episode')\n",
    "plt.ylabel('reward')\n",
    "plt.show()"
   ]
  },
  {
   "cell_type": "code",
   "execution_count": null,
   "metadata": {},
   "outputs": [],
   "source": []
  }
 ],
 "metadata": {
  "kernelspec": {
   "display_name": "Python 3",
   "language": "python",
   "name": "python3"
  },
  "language_info": {
   "codemirror_mode": {
    "name": "ipython",
    "version": 3
   },
   "file_extension": ".py",
   "mimetype": "text/x-python",
   "name": "python",
   "nbconvert_exporter": "python",
   "pygments_lexer": "ipython3",
   "version": "3.7.4"
  }
 },
 "nbformat": 4,
 "nbformat_minor": 2
}
