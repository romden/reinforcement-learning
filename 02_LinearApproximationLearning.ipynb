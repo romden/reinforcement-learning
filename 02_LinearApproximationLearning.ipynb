{
 "cells": [
  {
   "cell_type": "markdown",
   "metadata": {},
   "source": [
    "# Linear function approximation methods for Q learning  "
   ]
  },
  {
   "cell_type": "markdown",
   "metadata": {},
   "source": [
    "# Reference\n",
    "\n",
    "Richard S. Sutton and Andrew G. Barto (2018). *Reinforcement Learning: An Introduction*. A Bradford Book, Cambridge, MA, USA."
   ]
  },
  {
   "cell_type": "markdown",
   "metadata": {},
   "source": [
    "### Modules and packages"
   ]
  },
  {
   "cell_type": "code",
   "execution_count": 1,
   "metadata": {},
   "outputs": [],
   "source": [
    "import numpy as np\n",
    "import matplotlib.pyplot as plt\n",
    "\n",
    "import gym\n",
    "\n",
    "from sklearn.pipeline import FeatureUnion\n",
    "from sklearn.preprocessing import StandardScaler\n",
    "from sklearn.kernel_approximation import RBFSampler"
   ]
  },
  {
   "cell_type": "markdown",
   "metadata": {},
   "source": [
    "### Radial basis functions (RBF) for feature representation\n",
    "\n",
    "The FeatureTransformer class is based on codes adapted from:\n",
    "\n",
    "https://github.com/lazyprogrammer/machine_learning_examples/blob/master/rl2/mountaincar/q_learning.py\n",
    "\n",
    "https://github.com/dennybritz/reinforcement-learning"
   ]
  },
  {
   "cell_type": "code",
   "execution_count": 2,
   "metadata": {},
   "outputs": [],
   "source": [
    "class FeatureTransformer:\n",
    "    def __init__(self, env, n_components=500):\n",
    "        # sample points from observation space\n",
    "        sample = np.array([env.observation_space.sample() for x in range(10000)])\n",
    "        \n",
    "        # Standardize features by removing the mean and scaling to unit variance\n",
    "        self.scaler = StandardScaler()\n",
    "        \n",
    "        # Feature represetation using RBF kernels (different variances are used to cover different parts of the space)\n",
    "        self.featurizer = FeatureUnion([\n",
    "                                        (\"rbf1\", RBFSampler(gamma=5.0, n_components=n_components)),\n",
    "                                        (\"rbf2\", RBFSampler(gamma=2.0, n_components=n_components)),\n",
    "                                        (\"rbf3\", RBFSampler(gamma=1.0, n_components=n_components)),\n",
    "                                        (\"rbf4\", RBFSampler(gamma=0.5, n_components=n_components))\n",
    "                                        ])     \n",
    "       \n",
    "        # fit transformers        \n",
    "        self.scaler.fit(sample)\n",
    "        self.featurizer.fit(self.scaler.transform(sample))\n",
    "\n",
    "    def transform(self, state):\n",
    "        scaled = self.scaler.transform([state])\n",
    "        return self.featurizer.transform(scaled)[0]"
   ]
  },
  {
   "cell_type": "markdown",
   "metadata": {},
   "source": [
    "## Section 1 On policy learning"
   ]
  },
  {
   "cell_type": "markdown",
   "metadata": {},
   "source": [
    "## Episodic semi-gradient Sarsa algorithm"
   ]
  },
  {
   "cell_type": "markdown",
   "metadata": {},
   "source": [
    "<img src=\"images/episodic-semi-gradient-sarsa.png\" width=800 height=800 style=\"float: left\"/>"
   ]
  },
  {
   "cell_type": "markdown",
   "metadata": {},
   "source": [
    "### Sarsa agent"
   ]
  },
  {
   "cell_type": "code",
   "execution_count": 3,
   "metadata": {},
   "outputs": [],
   "source": [
    "class SarsaAgent:\n",
    "\n",
    "    def __init__(self, env, features):\n",
    "        \n",
    "        # agent's environment\n",
    "        self.env = env\n",
    "        \n",
    "        # function encoding states to features\n",
    "        self.features = features \n",
    "        \n",
    "        # linear model\n",
    "        self.num_actions = env.action_space.n\n",
    "        num_features = len(self.features(env.observation_space.low))\n",
    "        self.weights = np.random.uniform(low=-1, high=1, size=(self.num_actions, num_features))\n",
    "        \n",
    "        # learning parameters\n",
    "        self.num_episodes = 1000\n",
    "        self.epsilon = 0.1\n",
    "        self.alpha = 0.01 # learning rate\n",
    "        self.gamma = 0.99 # discount rate\n",
    "        \n",
    "        self.verbose = 200\n",
    "        self.to_show = -500\n",
    "        self.stats = {'rewards': []}\n",
    "\n",
    "    def act(self):\n",
    "        state = self.env.reset()\n",
    "        done = False\n",
    "        total_reward = 0\n",
    "        while not done:\n",
    "            q_values = np.dot(self.weights, self.features(state))\n",
    "            action = self.epsilon_greedy_selection(q_values, epsilon=0)\n",
    "            state, reward, done, _ = self.env.step(action)\n",
    "            total_reward += reward\n",
    "            self.env.render()\n",
    "        self.env.close()\n",
    "        return total_reward\n",
    "            \n",
    "    def epsilon_greedy_selection(self, q_values, epsilon):\n",
    "        # select action\n",
    "        if np.random.random() < epsilon:  # Exploration: randomly selected action\n",
    "            action = np.random.randint(0, len(q_values))\n",
    "\n",
    "        else:  # Greedy selection: action with max Q(s,a)\n",
    "            q_max = np.max(q_values)\n",
    "            q_max_actions = [i for i, q in enumerate(q_values) if q == q_max]\n",
    "            action = q_max_actions[np.random.randint(0, len(q_max_actions))]\n",
    "        return action\n",
    "\n",
    "    def execute(self):\n",
    "\n",
    "        # for each episode\n",
    "        for episode in range(self.num_episodes):\n",
    "            \n",
    "            # init episode stats\n",
    "            self.stats['rewards'].append(0)\n",
    "            \n",
    "            # get initial state\n",
    "            state = self.env.reset()\n",
    "\n",
    "            # select action based on Q(s,a) for the current state\n",
    "            action = self.epsilon_greedy_selection(np.dot(self.weights, self.features(state)), self.epsilon)\n",
    "\n",
    "            # for each time step in the episode (or until terminal state)\n",
    "            while True:\n",
    "\n",
    "                # carry out action, observe new state and reward\n",
    "                new_state, reward, done, _ = self.env.step(action)\n",
    "                \n",
    "                # get Q(s,a) for the new state\n",
    "                new_q_values = np.dot(self.weights, self.features(new_state))\n",
    "\n",
    "                # select action for new state\n",
    "                new_action = self.epsilon_greedy_selection(new_q_values, self.epsilon)\n",
    "\n",
    "                # compute Q(s_new,a) in the new state\n",
    "                if done:\n",
    "                    q_new = reward\n",
    "                else:\n",
    "                    q_new = reward + self.gamma * new_q_values[new_action]\n",
    "                    \n",
    "                # get current Q(s,a)\n",
    "                q_old = np.dot(self.weights, self.features(state))[action]\n",
    "\n",
    "                # update\n",
    "                self.weights[action, :] += self.alpha * (q_new - q_old) * self.features(state)\n",
    "\n",
    "                # update episode stats\n",
    "                self.stats['rewards'][-1] += reward\n",
    "\n",
    "                # decide whether to continue episode\n",
    "                if done:\n",
    "                    break\n",
    "                else:  # update\n",
    "                    state = new_state\n",
    "                    action = new_action\n",
    "\n",
    "            # print stats on screen\n",
    "            if self.verbose > 0 and episode % self.verbose == 0:\n",
    "                print(\"episode: {}\\t reward: {:.2f}\".format(episode, self.stats['rewards'][-1]))\n",
    "                \n",
    "            # show simulated environment with learned parameters\n",
    "            if self.to_show > 0 and episode % self.to_show == 0:\n",
    "                self.act()"
   ]
  },
  {
   "cell_type": "markdown",
   "metadata": {},
   "source": [
    "### Example"
   ]
  },
  {
   "cell_type": "code",
   "execution_count": 4,
   "metadata": {},
   "outputs": [
    {
     "name": "stdout",
     "output_type": "stream",
     "text": [
      "episode: 0\t reward: -200.00\n",
      "episode: 200\t reward: -141.00\n",
      "episode: 400\t reward: -142.00\n",
      "episode: 600\t reward: -144.00\n",
      "episode: 800\t reward: -142.00\n"
     ]
    }
   ],
   "source": [
    "env = gym.make(\"MountainCar-v0\")\n",
    "\n",
    "transformer = FeatureTransformer(env=env, n_components=500)\n",
    "\n",
    "agent = SarsaAgent(env=env, features=transformer.transform)\n",
    "agent.execute()"
   ]
  },
  {
   "cell_type": "code",
   "execution_count": 5,
   "metadata": {},
   "outputs": [
    {
     "data": {
      "image/png": "[encoded data removed]",
      "text/plain": [
       "<Figure size 432x288 with 1 Axes>"
      ]
     },
     "metadata": {
      "needs_background": "light"
     },
     "output_type": "display_data"
    }
   ],
   "source": [
    "# plot statistics\n",
    "plt.plot(agent.stats['rewards'])\n",
    "plt.xlabel('episode')\n",
    "plt.ylabel('reward')\n",
    "plt.show()"
   ]
  },
  {
   "cell_type": "code",
   "execution_count": 6,
   "metadata": {},
   "outputs": [
    {
     "name": "stdout",
     "output_type": "stream",
     "text": [
      "total_reward: -148.00\n"
     ]
    }
   ],
   "source": [
    "# show agent's performance\n",
    "total_reward = agent.act()\n",
    "\n",
    "print('total_reward: %.2f' % total_reward)"
   ]
  },
  {
   "cell_type": "markdown",
   "metadata": {},
   "source": [
    "## Section 2 Off policy learning"
   ]
  },
  {
   "cell_type": "markdown",
   "metadata": {},
   "source": [
    "## Q-learning agent \n",
    "\n",
    "The following class provides a straightforward extension of tabular q-learning algorithm "
   ]
  },
  {
   "cell_type": "code",
   "execution_count": 7,
   "metadata": {},
   "outputs": [],
   "source": [
    "class QLearningAgent:\n",
    "\n",
    "    def __init__(self, env, features):\n",
    "        \n",
    "        # agent's environment\n",
    "        self.env = env\n",
    "        \n",
    "        # function encoding states to features\n",
    "        self.features = features \n",
    "        \n",
    "        # linear model\n",
    "        self.num_actions = env.action_space.n\n",
    "        num_features = len(self.features(env.observation_space.low))\n",
    "        self.weights = np.random.uniform(low=-1, high=1, size=(self.num_actions, num_features))\n",
    "        \n",
    "        # learning parameters\n",
    "        self.num_episodes = 1000\n",
    "        self.epsilon = 0.1\n",
    "        self.alpha = 0.01 # learning rate\n",
    "        self.gamma = 0.99 # discount rate\n",
    "        \n",
    "        self.verbose = 200\n",
    "        self.to_show = -500\n",
    "        self.stats = {'rewards': []} \n",
    "\n",
    "    def act(self):\n",
    "        state = self.env.reset()\n",
    "        done = False\n",
    "        total_reward = 0\n",
    "        while not done:\n",
    "            q_values = np.dot(self.weights, self.features(state))\n",
    "            action = self.epsilon_greedy_selection(q_values, epsilon=0)\n",
    "            state, reward, done, _ = self.env.step(action)\n",
    "            total_reward += reward\n",
    "            self.env.render()\n",
    "        self.env.close()\n",
    "        return total_reward\n",
    "            \n",
    "    def epsilon_greedy_selection(self, q_values, epsilon):\n",
    "        # select action\n",
    "        if np.random.random() < epsilon:  # Exploration: randomly selected action\n",
    "            action = np.random.randint(0, len(q_values))\n",
    "\n",
    "        else:  # Greedy selection: action with max Q(s,a)\n",
    "            q_max = np.max(q_values)\n",
    "            q_max_actions = [i for i, q in enumerate(q_values) if q == q_max]\n",
    "            action = q_max_actions[np.random.randint(0, len(q_max_actions))]\n",
    "        return action\n",
    "\n",
    "    def execute(self):\n",
    "\n",
    "        # for each episode\n",
    "        for episode in range(self.num_episodes):\n",
    "            \n",
    "            # init episode stats\n",
    "            self.stats['rewards'].append(0)\n",
    "            \n",
    "            # get initial state\n",
    "            state = self.env.reset()\n",
    "\n",
    "            # for each time step in the episode (or until terminal state)\n",
    "            while True:\n",
    "                \n",
    "                # Q(s,a) for the current state\n",
    "                q_values = np.dot(self.weights, self.features(state))\n",
    "                \n",
    "                # select action based on Q(s,a) for the current state                \n",
    "                action = self.epsilon_greedy_selection(q_values, self.epsilon)\n",
    "\n",
    "                # carry out action, observe new state and reward\n",
    "                new_state, reward, done, _ = self.env.step(action)\n",
    "\n",
    "                # compute Q(s_new,a) in the new state\n",
    "                if done:\n",
    "                    q_new = reward\n",
    "                else:\n",
    "                    q_new = reward + self.gamma * np.max(np.dot(self.weights, self.features(new_state)))\n",
    "                    \n",
    "                # get current Q(s,a)\n",
    "                q_old = q_values[action]\n",
    "\n",
    "                # update\n",
    "                self.weights[action, :] += self.alpha * (q_new - q_old) * self.features(state)\n",
    "\n",
    "                # update episode stats\n",
    "                self.stats['rewards'][-1] += reward\n",
    "\n",
    "                # decide whether to continue episode\n",
    "                if done:\n",
    "                    break\n",
    "                else:  # update\n",
    "                    state = new_state\n",
    "\n",
    "            # print stats on screen\n",
    "            if self.verbose > 0 and episode % self.verbose == 0:\n",
    "                print(\"episode: {}\\t reward: {:.2f}\".format(episode, self.stats['rewards'][-1]))\n",
    "                \n",
    "            # show simulated environment with learned parameters\n",
    "            if self.to_show > 0 and episode % self.to_show == 0:\n",
    "                self.act()"
   ]
  },
  {
   "cell_type": "code",
   "execution_count": 8,
   "metadata": {},
   "outputs": [
    {
     "name": "stdout",
     "output_type": "stream",
     "text": [
      "episode: 0\t reward: -200.00\n",
      "episode: 200\t reward: -191.00\n",
      "episode: 400\t reward: -137.00\n",
      "episode: 600\t reward: -138.00\n",
      "episode: 800\t reward: -143.00\n"
     ]
    }
   ],
   "source": [
    "env = gym.make(\"MountainCar-v0\")\n",
    "\n",
    "transformer = FeatureTransformer(env=env, n_components=500)\n",
    "\n",
    "agent = QLearningAgent(env=env, features=transformer.transform)\n",
    "agent.execute()"
   ]
  },
  {
   "cell_type": "code",
   "execution_count": 9,
   "metadata": {},
   "outputs": [
    {
     "data": {
      "image/png": "[encoded data removed]",
      "text/plain": [
       "<Figure size 432x288 with 1 Axes>"
      ]
     },
     "metadata": {
      "needs_background": "light"
     },
     "output_type": "display_data"
    }
   ],
   "source": [
    "# plot statistics\n",
    "plt.plot(agent.stats['rewards'])\n",
    "plt.xlabel('episode')\n",
    "plt.ylabel('reward')\n",
    "plt.show()"
   ]
  },
  {
   "cell_type": "code",
   "execution_count": 10,
   "metadata": {},
   "outputs": [
    {
     "name": "stdout",
     "output_type": "stream",
     "text": [
      "total_reward: -110.00\n"
     ]
    }
   ],
   "source": [
    "# show agent's performance\n",
    "total_reward = agent.act()\n",
    "\n",
    "print('total_reward: %.2f' % total_reward)"
   ]
  },
  {
   "cell_type": "code",
   "execution_count": null,
   "metadata": {},
   "outputs": [],
   "source": []
  }
 ],
 "metadata": {
  "kernelspec": {
   "display_name": "Python 3",
   "language": "python",
   "name": "python3"
  },
  "language_info": {
   "codemirror_mode": {
    "name": "ipython",
    "version": 3
   },
   "file_extension": ".py",
   "mimetype": "text/x-python",
   "name": "python",
   "nbconvert_exporter": "python",
   "pygments_lexer": "ipython3",
   "version": "3.7.4"
  }
 },
 "nbformat": 4,
 "nbformat_minor": 2
}
