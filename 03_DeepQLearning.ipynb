{
 "cells": [
  {
   "cell_type": "markdown",
   "metadata": {},
   "source": [
    "# Deep Q learning"
   ]
  },
  {
   "cell_type": "markdown",
   "metadata": {},
   "source": [
    "## Algorithm\n",
    "\n",
    "<img src=\"./images/deep-q-learning.png\" width=500 height=500 style=\"float: left\"/>"
   ]
  },
  {
   "cell_type": "markdown",
   "metadata": {},
   "source": [
    "## Reference\n",
    "\n",
    "V. Mnih et al. Human-level control through deep reinforcement learning. *Nature*, 518(7540): 529–533, 02 2015. "
   ]
  },
  {
   "cell_type": "markdown",
   "metadata": {},
   "source": [
    "### Modules and packages"
   ]
  },
  {
   "cell_type": "code",
   "execution_count": 2,
   "metadata": {},
   "outputs": [],
   "source": [
    "import numpy as np\n",
    "import random\n",
    "from collections import deque\n",
    "import matplotlib.pyplot as plt\n",
    "\n",
    "import tensorflow as tf\n",
    "\n",
    "import gym\n",
    "\n",
    "import warnings\n",
    "warnings.filterwarnings(\"ignore\")"
   ]
  },
  {
   "cell_type": "markdown",
   "metadata": {},
   "source": [
    "### Deep Q-network (DQN) agent"
   ]
  },
  {
   "cell_type": "code",
   "execution_count": 3,
   "metadata": {},
   "outputs": [],
   "source": [
    "class DQNAgent(object):\n",
    "\n",
    "    def __init__(self, env, model, target_model, optimizer):\n",
    "\n",
    "        self.num_episodes = 1000\n",
    "        self.gamma = 0.99  # discount rate\n",
    "        self.epsilon = 0.1  # exploration rate\n",
    "        self.memory = deque(maxlen=10000)\n",
    "        self.batch_size = 32\n",
    "        \n",
    "        # agent's environment \n",
    "        self.env = env\n",
    "        self.state_size = len(env.observation_space.low)\n",
    "        self.action_size = env.action_space.n\n",
    "\n",
    "        # models and optimizer\n",
    "        self.optimizer = optimizer\n",
    "        self.model = model # used to select action\n",
    "        self.target_model = target_model # used to evaluate action\n",
    "        self.target_model.set_weights(self.model.get_weights()) # set equal parameters\n",
    "\n",
    "        self.target_update_counter = 0  # count steps for updating target network\n",
    "        self.target_update_frequency = 200  # number of steps for updating target model\n",
    "\n",
    "        self.stats = {'rewards': []} \n",
    "        self.verbose = 50  # negative - not to show; positive - show specific episode\n",
    "        self.to_show = 200  # negative - not to show; positive - show specific episode\n",
    "\n",
    "    def execute(self):\n",
    "\n",
    "        # for each episode\n",
    "        for episode in range(1, self.num_episodes + 1):\n",
    "            \n",
    "            # init episode stats\n",
    "            self.stats['rewards'].append(0)\n",
    "            \n",
    "            # get initial state\n",
    "            state = self.env.reset()\n",
    "\n",
    "            # for each time step in the episode (or until terminal state)\n",
    "            while True:\n",
    "\n",
    "                # for the current state, select action using Q(s,a)\n",
    "                action = self.select_action(state, self.epsilon)\n",
    "\n",
    "                # carry out action, observe new state and reward\n",
    "                new_state, reward, done, _ = self.env.step(action)\n",
    "\n",
    "                # put into agents memory\n",
    "                self.memory.append((state, action, reward, new_state, done))\n",
    "\n",
    "                # train agent's main model (every step)\n",
    "                self.train()\n",
    "\n",
    "                # If counter reaches set value, update target network with weights of main network\n",
    "                self.target_update_counter += 1\n",
    "                if self.target_update_counter == self.target_update_frequency:                    \n",
    "                    self.target_update_counter = 0\n",
    "                    self.target_model.set_weights(self.model.get_weights())\n",
    "\n",
    "                # update episode stats\n",
    "                self.stats['rewards'][-1] += reward\n",
    "                \n",
    "                # decide whether to continue episode\n",
    "                if done:\n",
    "                    break\n",
    "                else:  # update state\n",
    "                    state = new_state          \n",
    "\n",
    "            # print stats on screen\n",
    "            if self.verbose > 0 and episode % self.verbose == 0:\n",
    "                print(\"episode: {}\\t reward: {:.2f}\".format(episode, self.stats['rewards'][-1]))\n",
    "\n",
    "            # show simulated environment with learned parameters\n",
    "            if self.to_show > 0 and episode % self.to_show == 0:\n",
    "                self.act()\n",
    "\n",
    "    # train main model\n",
    "    def train(self):\n",
    "        \n",
    "        if len(self.memory) < self.batch_size:\n",
    "            return\n",
    "        \n",
    "        # select minibach for training\n",
    "        minibatch = random.sample(self.memory, self.batch_size)\n",
    "\n",
    "        states = np.array([tup[0] for tup in minibatch], dtype=np.float32)\n",
    "        actions = np.array([tup[1] for tup in minibatch])\n",
    "        rewards = np.array([tup[2] for tup in minibatch])\n",
    "        next_states = np.array([tup[3] for tup in minibatch])\n",
    "        done = np.array([tup[4] for tup in minibatch])\n",
    "        \n",
    "        \n",
    "        with tf.GradientTape() as tape:\n",
    "            # tensor of predicted Q values\n",
    "            predicted = self.model(states)\n",
    "            \n",
    "            # take numpy arrays of predicted values\n",
    "            q_values = predicted.numpy()\n",
    "            \n",
    "            # Q values in the new state\n",
    "            q_new = self.target_model.predict(next_states)\n",
    "        \n",
    "            # target Q values\n",
    "            q_target = rewards + self.gamma * (1 - done) * np.amax(q_new, axis=1)            \n",
    "            \n",
    "            # update array puting target values\n",
    "            q_values[range(len(actions)), actions] = q_target\n",
    "            \n",
    "            # convert to tensor of target Q values\n",
    "            target = tf.convert_to_tensor(q_values, dtype=np.float32)\n",
    "                \n",
    "            # loss function             \n",
    "            err = target - predicted\n",
    "            loss = 1./self.batch_size * tf.reduce_sum(err**2)\n",
    "            \n",
    "        # Get the gradients\n",
    "        variables = self.model.trainable_variables\n",
    "        gradients = tape.gradient(loss, variables)\n",
    "        \n",
    "        # Update the weights\n",
    "        self.optimizer.apply_gradients(zip(gradients, variables))\n",
    "\n",
    "    # select action using epsilon greedy policy\n",
    "    def select_action(self, state, epsilon):\n",
    "        if np.random.random() < epsilon:\n",
    "            # Exploration: randomly selected action\n",
    "            action = np.random.randint(0, self.action_size)\n",
    "        else:\n",
    "            # Greedy selection: action with max Q(s,a)\n",
    "            q_values = self.model.predict(np.array(state).reshape(1, -1))\n",
    "            action = np.argmax(q_values)\n",
    "        return action\n",
    "\n",
    "    def act(self):\n",
    "        total_reward = 0\n",
    "        state = self.env.reset()\n",
    "        done = False\n",
    "        while not done:\n",
    "            action = self.select_action(state, 0)\n",
    "            state, reward, done, _ = self.env.step(action)\n",
    "            total_reward += reward\n",
    "            self.env.render()\n",
    "        self.env.close()\n",
    "        return total_reward"
   ]
  },
  {
   "cell_type": "markdown",
   "metadata": {},
   "source": [
    "### Neural network model to approximate action value function"
   ]
  },
  {
   "cell_type": "code",
   "execution_count": 4,
   "metadata": {},
   "outputs": [],
   "source": [
    "def build_model(state_size, action_size):\n",
    "    \n",
    "    # computaion graph\n",
    "    x = tf.keras.layers.Input(shape=(state_size,))\n",
    "    h = tf.keras.layers.Dense(32, activation='relu')(x)\n",
    "    y = tf.keras.layers.Dense(action_size, activation='linear')(h)\n",
    "\n",
    "    # model and optimizer\n",
    "    model = tf.keras.models.Model(inputs=x, outputs=y)\n",
    "    optimizer = tf.keras.optimizers.Adam(lr=0.001)\n",
    "    \n",
    "    return model, optimizer"
   ]
  },
  {
   "cell_type": "markdown",
   "metadata": {},
   "source": [
    "### Example"
   ]
  },
  {
   "cell_type": "code",
   "execution_count": 5,
   "metadata": {},
   "outputs": [
    {
     "name": "stdout",
     "output_type": "stream",
     "text": [
      "episode: 50\t reward: 9.00\n",
      "episode: 100\t reward: 9.00\n",
      "episode: 150\t reward: 10.00\n",
      "episode: 200\t reward: 67.00\n",
      "episode: 250\t reward: 116.00\n",
      "episode: 300\t reward: 200.00\n",
      "episode: 350\t reward: 155.00\n",
      "episode: 400\t reward: 80.00\n",
      "episode: 450\t reward: 63.00\n",
      "episode: 500\t reward: 157.00\n",
      "episode: 550\t reward: 200.00\n",
      "episode: 600\t reward: 200.00\n",
      "episode: 650\t reward: 200.00\n",
      "episode: 700\t reward: 200.00\n",
      "episode: 750\t reward: 200.00\n",
      "episode: 800\t reward: 59.00\n",
      "episode: 850\t reward: 200.00\n",
      "episode: 900\t reward: 200.00\n",
      "episode: 950\t reward: 200.00\n",
      "episode: 1000\t reward: 200.00\n"
     ]
    },
    {
     "data": {
      "text/plain": [
       "200.0"
      ]
     },
     "execution_count": 5,
     "metadata": {},
     "output_type": "execute_result"
    }
   ],
   "source": [
    "env = gym.make(\"CartPole-v0\")\n",
    "\n",
    "state_size = len(env.observation_space.low)\n",
    "action_size = env.action_space.n\n",
    "\n",
    "model, optimizer = build_model(state_size, action_size) # used to select action\n",
    "target_model, _ = build_model(state_size, action_size) # used to evaluate action\n",
    "\n",
    "agent = DQNAgent(env, model, target_model, optimizer)\n",
    "agent.execute()\n",
    "agent.act()"
   ]
  },
  {
   "cell_type": "code",
   "execution_count": 6,
   "metadata": {},
   "outputs": [
    {
     "data": {
      "image/png": "[encoded data removed]",
      "text/plain": [
       "<Figure size 432x288 with 1 Axes>"
      ]
     },
     "metadata": {
      "needs_background": "light"
     },
     "output_type": "display_data"
    }
   ],
   "source": [
    "plt.plot(agent.stats['rewards'])\n",
    "plt.xlabel('episode')\n",
    "plt.ylabel('reward')\n",
    "plt.show()"
   ]
  }
 ],
 "metadata": {
  "kernelspec": {
   "display_name": "Python 3",
   "language": "python",
   "name": "python3"
  },
  "language_info": {
   "codemirror_mode": {
    "name": "ipython",
    "version": 3
   },
   "file_extension": ".py",
   "mimetype": "text/x-python",
   "name": "python",
   "nbconvert_exporter": "python",
   "pygments_lexer": "ipython3",
   "version": "3.7.4"
  }
 },
 "nbformat": 4,
 "nbformat_minor": 2
}
