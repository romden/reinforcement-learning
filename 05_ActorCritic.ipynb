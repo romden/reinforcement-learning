{
 "cells": [
  {
   "cell_type": "markdown",
   "metadata": {},
   "source": [
    "#  Actor–Critic\n",
    "\n",
    "In Actor Critic Methods \n",
    "\n",
    "* The Critic estimates the value function of state or of state-action.\n",
    "\n",
    "* The Actor selects the actions and controls the policy distribution using the values provided by Critic.\n",
    "\n",
    "The Critic and Actor functions are parameterized by neural networks."
   ]
  },
  {
   "cell_type": "markdown",
   "metadata": {},
   "source": [
    "# Reference\n",
    "\n",
    "Richard S. Sutton and Andrew G. Barto (2018). *Reinforcement Learning: An Introduction*. A Bradford Book, Cambridge, MA, USA."
   ]
  },
  {
   "cell_type": "markdown",
   "metadata": {},
   "source": [
    "## One-step Actor–Critic Algorithm\n",
    "\n",
    "\n",
    "<img src=\"images/actor-critic.png\" width=800 height=800 style=\"float: left\"/>"
   ]
  },
  {
   "cell_type": "markdown",
   "metadata": {},
   "source": [
    "### Modules and packages"
   ]
  },
  {
   "cell_type": "code",
   "execution_count": 1,
   "metadata": {},
   "outputs": [
    {
     "name": "stdout",
     "output_type": "stream",
     "text": [
      "TensorFlow 2.0.0\n"
     ]
    }
   ],
   "source": [
    "import numpy as np\n",
    "import random\n",
    "import matplotlib.pyplot as plt\n",
    "\n",
    "import tensorflow as tf\n",
    "\n",
    "import gym\n",
    "\n",
    "import warnings\n",
    "warnings.filterwarnings(\"ignore\")\n",
    "\n",
    "print(\"TensorFlow {}\".format(tf.__version__))"
   ]
  },
  {
   "cell_type": "markdown",
   "metadata": {},
   "source": [
    "### Actor Critic agent"
   ]
  },
  {
   "cell_type": "code",
   "execution_count": 2,
   "metadata": {},
   "outputs": [],
   "source": [
    "class ACAgent(object):\n",
    "\n",
    "    def __init__(self,  env, actor_model, actor_optimizer, critic_model, critic_optimizer):\n",
    "        # parameters\n",
    "        self.num_episodes = 1000\n",
    "        self.gamma = 0.9  # discount rate        \n",
    "\n",
    "        # environment\n",
    "        self.env = env\n",
    "        self.state_size = len(env.observation_space.low)\n",
    "        self.action_size = env.action_space.n\n",
    "\n",
    "        # actor model and optimizer\n",
    "        self.actor_model = actor_model\n",
    "        self.actor_optimizer = actor_optimizer\n",
    "        \n",
    "        # critic model and optimizer\n",
    "        self.critic_model = critic_model\n",
    "        self.critic_optimizer = critic_optimizer\n",
    "\n",
    "        # stats\n",
    "        self.stats = {'rewards': []}\n",
    "        self.show_stats = 200  # negative - not to show; positive - show specific episode\n",
    "        self.show_episode = -1  # negative - not to show; positive - show specific episode\n",
    "        \n",
    "        self.I = 1. # see algorithm above\n",
    "\n",
    "    def execute(self):        \n",
    "\n",
    "        # for each episode\n",
    "        for episode in range(1, self.num_episodes + 1):\n",
    "            # init episode stats\n",
    "            self.stats['rewards'].append(0)\n",
    "            \n",
    "            # get initial state\n",
    "            state = self.env.reset()\n",
    "            \n",
    "            self.I = 1.\n",
    "\n",
    "            # generate episode\n",
    "            while True:\n",
    "\n",
    "                # actor select action based on action probabilities\n",
    "                action = self.select_action(state)\n",
    "\n",
    "                # carry out action, observe new state and reward\n",
    "                new_state, reward, done, _ = self.env.step(action)\n",
    "\n",
    "                # one hot encoding of action\n",
    "                action_one_hot = [0] * self.action_size\n",
    "                action_one_hot[action] = 1\n",
    "\n",
    "                # train \n",
    "                self.train(state, action_one_hot, new_state, reward, done)\n",
    "                \n",
    "                # update episode statistics\n",
    "                self.stats['rewards'][-1] += reward\n",
    "\n",
    "                # decide whether to continue episode\n",
    "                if done:\n",
    "                    break\n",
    "                else:  # update state\n",
    "                    state = new_state\n",
    "                    self.I *= self.gamma\n",
    "\n",
    "            # print stats on screen\n",
    "            if self.show_stats > 0 and episode % self.show_stats == 0:\n",
    "                print(\"episode: {}   reward: {}\".format(episode,  self.stats['rewards'][-1]))\n",
    "\n",
    "            # show simulated environment with learned parameters\n",
    "            if self.show_episode > 0 and episode % self.show_episode == 0:\n",
    "                self.act()\n",
    "\n",
    "    def train(self, state_, action_one_hot, new_state_, reward, done):\n",
    "        \n",
    "        # convert to array and tensor formats        \n",
    "        new_state = np.array(new_state_, dtype=np.float32).reshape(1,-1)   \n",
    "        \n",
    "        state = tf.convert_to_tensor([state_], dtype=np.float32) \n",
    "        action = tf.convert_to_tensor([action_one_hot], dtype=np.float32)\n",
    "        \n",
    "        # critic estimates V_new\n",
    "        new_value = reward + (1 - done) * self.gamma * self.critic_model.predict(new_state)[0][0]\n",
    "        \n",
    "        # UPDATE CRITIC MODEL        \n",
    "        with tf.GradientTape() as tape:\n",
    "            # critic estimates V\n",
    "            value = self.critic_model(state)\n",
    "            \n",
    "            # estimated advantage of the taken action \n",
    "            delta = new_value - value.numpy()[0][0]\n",
    "            \n",
    "            # critic's loss\n",
    "            critic_loss = - delta * value\n",
    "\n",
    "        # Get the gradients\n",
    "        critic_variables = self.critic_model.trainable_variables\n",
    "        critic_gradients = tape.gradient(critic_loss, critic_variables)\n",
    "        \n",
    "        # Update the weights\n",
    "        self.critic_optimizer.apply_gradients(zip(critic_gradients, critic_variables))\n",
    "        \n",
    "        \n",
    "        # UPDATE ACTOR        \n",
    "        with tf.GradientTape() as tape:\n",
    "            # probability of taken action\n",
    "            prob = self.actor_model(state)\n",
    "            prob = tf.reduce_sum(action * prob)\n",
    "            \n",
    "            # log probability         \n",
    "            log_prob = tf.math.log(prob)\n",
    "            \n",
    "            # loss function \n",
    "            actor_loss = - log_prob * delta * self.I\n",
    "\n",
    "        # Get the gradients\n",
    "        actor_variables = self.actor_model.trainable_variables\n",
    "        actor_gradients = tape.gradient(actor_loss, actor_variables)\n",
    "        \n",
    "        # Update the weights\n",
    "        self.actor_optimizer.apply_gradients(zip(actor_gradients, actor_variables))\n",
    "        \n",
    "\n",
    "    # select action based on action probabilities\n",
    "    def select_action(self, state):\n",
    "        probabilities = self.actor_model.predict(np.array(state).reshape(1, -1)).flatten()\n",
    "        action = np.random.choice(range(self.action_size), 1, p=probabilities)\n",
    "        return action[0]\n",
    "\n",
    "    def act(self):\n",
    "        total_reward = 0\n",
    "        state = self.env.reset()\n",
    "        done = False\n",
    "        while not done:\n",
    "            action = self.select_action(state)\n",
    "            state, reward, done, _ = self.env.step(action)\n",
    "            total_reward += reward\n",
    "            self.env.render()\n",
    "        self.env.close()\n",
    "        return total_reward"
   ]
  },
  {
   "cell_type": "markdown",
   "metadata": {},
   "source": [
    "### Neural networks parameterizing policy and value functions"
   ]
  },
  {
   "cell_type": "code",
   "execution_count": 3,
   "metadata": {},
   "outputs": [],
   "source": [
    "def build_actor_model(state_size, action_size):\n",
    "    \n",
    "    # computaion graph\n",
    "    x = tf.keras.layers.Input(shape=(state_size,))\n",
    "    h = tf.keras.layers.Dense(32, activation='relu')(x)\n",
    "    y = tf.keras.layers.Dense(action_size, activation='softmax')(h)\n",
    "\n",
    "    # model and optimizer\n",
    "    model = tf.keras.models.Model(inputs=x, outputs=y)\n",
    "    optimizer = tf.optimizers.Adam(lr=0.0001)\n",
    "    \n",
    "    return model, optimizer\n",
    "\n",
    "def build_critic_model(state_size):\n",
    "    \n",
    "    # computaion graph\n",
    "    x = tf.keras.layers.Input(shape=(state_size,))\n",
    "    h = tf.keras.layers.Dense(32, activation='relu')(x)\n",
    "    y = tf.keras.layers.Dense(1, activation='linear')(h)\n",
    "\n",
    "    # model and optimizer\n",
    "    model = tf.keras.models.Model(inputs=x, outputs=y)\n",
    "    optimizer = tf.optimizers.Adam(lr=0.001)\n",
    "    \n",
    "    return model, optimizer"
   ]
  },
  {
   "cell_type": "markdown",
   "metadata": {},
   "source": [
    "### Example"
   ]
  },
  {
   "cell_type": "code",
   "execution_count": 4,
   "metadata": {},
   "outputs": [
    {
     "name": "stdout",
     "output_type": "stream",
     "text": [
      "episode: 200   reward: 40.0\n",
      "episode: 400   reward: 74.0\n",
      "episode: 600   reward: 99.0\n",
      "episode: 800   reward: 200.0\n",
      "episode: 1000   reward: 200.0\n"
     ]
    },
    {
     "data": {
      "text/plain": [
       "200.0"
      ]
     },
     "execution_count": 4,
     "metadata": {},
     "output_type": "execute_result"
    }
   ],
   "source": [
    "env = gym.make(\"CartPole-v0\")\n",
    "\n",
    "state_size = len(env.observation_space.low)\n",
    "action_size = env.action_space.n\n",
    "\n",
    "actor_model, actor_optimizer = build_actor_model(state_size, action_size) \n",
    "critic_model, critic_optimizer = build_critic_model(state_size) \n",
    "\n",
    "agent = ACAgent(env, actor_model, actor_optimizer, critic_model, critic_optimizer)\n",
    "agent.execute()\n",
    "agent.act()"
   ]
  },
  {
   "cell_type": "code",
   "execution_count": 5,
   "metadata": {},
   "outputs": [
    {
     "data": {
      "image/png": "[encoded data removed]",
      "text/plain": [
       "<Figure size 432x288 with 1 Axes>"
      ]
     },
     "metadata": {
      "needs_background": "light"
     },
     "output_type": "display_data"
    }
   ],
   "source": [
    "plt.plot(agent.stats['rewards'])\n",
    "plt.xlabel('episode')\n",
    "plt.ylabel('reward')\n",
    "plt.show()"
   ]
  },
  {
   "cell_type": "code",
   "execution_count": null,
   "metadata": {},
   "outputs": [],
   "source": []
  }
 ],
 "metadata": {
  "kernelspec": {
   "display_name": "Python 3",
   "language": "python",
   "name": "python3"
  },
  "language_info": {
   "codemirror_mode": {
    "name": "ipython",
    "version": 3
   },
   "file_extension": ".py",
   "mimetype": "text/x-python",
   "name": "python",
   "nbconvert_exporter": "python",
   "pygments_lexer": "ipython3",
   "version": "3.7.4"
  }
 },
 "nbformat": 4,
 "nbformat_minor": 2
}
